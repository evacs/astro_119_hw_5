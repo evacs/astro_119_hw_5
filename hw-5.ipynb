{
 "cells": [
  {
   "cell_type": "code",
   "execution_count": null,
   "metadata": {},
   "outputs": [],
   "source": [
    "%matplotlib inline\n",
    "import numpy as np\n",
    "import matplotlib.pyplot as plt"
   ]
  },
  {
   "cell_type": "markdown",
   "metadata": {},
   "source": [
    "# The function needing integration:"
   ]
  },
  {
   "cell_type": "code",
   "execution_count": null,
   "metadata": {},
   "outputs": [],
   "source": [
    "def func(x):\n",
    "    f1 = np.exp(-2*x)\n",
    "    f2 = np.cos(10*x)\n",
    "\n",
    "    return f1*f2"
   ]
  },
  {
   "cell_type": "markdown",
   "metadata": {},
   "source": [
    "## The integrated function:"
   ]
  },
  {
   "cell_type": "code",
   "execution_count": null,
   "metadata": {},
   "outputs": [],
   "source": [
    "def integral(x):\n",
    "    \n",
    "    return np.exp(-2*x)*(5*np.sin(10*x)-np.cos(10*x))/52\n",
    "    \n",
    "    #integrate here to check your work"
   ]
  },
  {
   "cell_type": "markdown",
   "metadata": {},
   "source": [
    "## Trapezoid Method:"
   ]
  },
  {
   "cell_type": "code",
   "execution_count": null,
   "metadata": {},
   "outputs": [],
   "source": [
    "def trap_core(f, x, h):\n",
    "    return 0.5*h*(f(x+h) + f(x))"
   ]
  },
  {
   "cell_type": "code",
   "execution_count": null,
   "metadata": {},
   "outputs": [],
   "source": [
    "def trap_meth(f,a,b,N):\n",
    "              \n",
    "    #f == func\n",
    "    #a == 0\n",
    "    #b == np.pi\n",
    "    #N == 50\n",
    "    \n",
    "    #define x values\n",
    "    \n",
    "    x = np.linspace(a, b, N)\n",
    "    h = x[1]-x[0]\n",
    "    \n",
    "    Fint = 0.0\n",
    "    \n",
    "    #perform integral using trap method:\n",
    "    \n",
    "    for i in range(0,len(x)-1,1):\n",
    "        Fint += trap_core(f,x[i],h)\n",
    "    print(i)\n",
    "    return Fint"
   ]
  },
  {
   "cell_type": "markdown",
   "metadata": {},
   "source": [
    "## Simpson's Method:"
   ]
  },
  {
   "cell_type": "code",
   "execution_count": null,
   "metadata": {},
   "outputs": [],
   "source": [
    "def simp_core(f,x,h):\n",
    "    return h*( f(x) + 4*f(x+h) + f(x+2*h))/3."
   ]
  },
  {
   "cell_type": "code",
   "execution_count": null,
   "metadata": {},
   "outputs": [],
   "source": [
    "def simp_meth(f, a, b, N):\n",
    "    \n",
    "    #N=100\n",
    "    \n",
    "    #define x values\n",
    "    \n",
    "    x = np.linspace(a, b, N)\n",
    "    h = x[1]-x[0]\n",
    "    \n",
    "    Fint = 0.0\n",
    "    \n",
    "    for i in range(0,len(x)-2,2):\n",
    "        Fint += simp_core(f,x[i],h)\n",
    "        \n",
    "    if((N%2)==0):\n",
    "        Fint += simp_core(f,x[-2],0.5*h)\n",
    "        \n",
    "    print(i)\n",
    "    return Fint"
   ]
  },
  {
   "cell_type": "markdown",
   "metadata": {},
   "source": [
    "## Romberg Method:"
   ]
  },
  {
   "cell_type": "code",
   "execution_count": null,
   "metadata": {},
   "outputs": [],
   "source": [
    "def romb_core(f,a,b,i):\n",
    "    \n",
    "    #difference\n",
    "    h = b-a\n",
    "    \n",
    "    #increment between new func evals\n",
    "    dh = h/2.**(i)\n",
    "    \n",
    "    #cofactor\n",
    "    K = h/2.**(i+1)\n",
    "    \n",
    "    \n",
    "    M = 0.0\n",
    "    for j in range(2**i):\n",
    "        M += f(a + 0.5*dh + j*dh)\n",
    "        \n",
    "    return K*M"
   ]
  },
  {
   "cell_type": "code",
   "execution_count": null,
   "metadata": {},
   "outputs": [],
   "source": [
    "def romb_int(f,a,b,tol):\n",
    "    \n",
    "    #define an integration variable\n",
    "    i = 0\n",
    "    \n",
    "    #define a max number of iterations\n",
    "    imax = 1000\n",
    "    \n",
    "    #define an eror estimate, set to large value\n",
    "    delta = 100.0*np.fabs(tol)\n",
    "    \n",
    "    #set an array of answers\n",
    "    I = np.zeros(imax, dtype = float)\n",
    "    \n",
    "    #get to the zeroeth romb. integration\n",
    "    I[0] = 0.5*(b-a)*(f(a)+f(b))\n",
    "    \n",
    "    #iterate by 1\n",
    "    i += 1\n",
    "    \n",
    "    while(delta>tol):\n",
    "        \n",
    "        #find this romb integration\n",
    "        I[i] = 0.5*I[i-1] + romb_core(f, a, b, i)\n",
    "        \n",
    "        #compute the new fractional error estimate\n",
    "        delta = np.fabs( (I[i] - I[i-1])/ I[i] )\n",
    "        \n",
    "        print(i,I[i],I[i-1],delta)\n",
    "        \n",
    "        if(delta>tol):\n",
    "            \n",
    "            i+=1\n",
    "            \n",
    "            \n",
    "            if(i>imax):\n",
    "                print(\"Max iterations reached.\")\n",
    "                raise StopIteration('Stopping iterations after ', i)\n",
    "                \n",
    "    return I[i]"
   ]
  },
  {
   "cell_type": "markdown",
   "metadata": {},
   "source": [
    "# Check the integrals"
   ]
  },
  {
   "cell_type": "code",
   "execution_count": null,
   "metadata": {},
   "outputs": [],
   "source": [
    "Answer = integral(np.pi)-integral(0)\n",
    "print(\"From calculator:\")\n",
    "print(Answer)\n",
    "print(\"Trapezoid Method:\")\n",
    "print(trap_meth(func,0,np.pi,50))\n",
    "print(\"Simpson's Method:\")\n",
    "print(simp_meth(func,0,np.pi,50))\n",
    "print(\"Romberg Method:\")\n",
    "tolerance = 1.0e-6\n",
    "RI = romb_int(func,0,np.pi,tolerance)\n",
    "print(RI, (RI-Answer)/Answer, tolerance)\n"
   ]
  },
  {
   "cell_type": "code",
   "execution_count": null,
   "metadata": {},
   "outputs": [],
   "source": []
  }
 ],
 "metadata": {
  "kernelspec": {
   "display_name": "Python 3",
   "language": "python",
   "name": "python3"
  },
  "language_info": {
   "codemirror_mode": {
    "name": "ipython",
    "version": 3
   },
   "file_extension": ".py",
   "mimetype": "text/x-python",
   "name": "python",
   "nbconvert_exporter": "python",
   "pygments_lexer": "ipython3",
   "version": "3.8.5"
  }
 },
 "nbformat": 4,
 "nbformat_minor": 4
}
